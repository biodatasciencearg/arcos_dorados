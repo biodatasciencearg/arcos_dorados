{
 "cells": [
  {
   "cell_type": "markdown",
   "metadata": {},
   "source": [
    "[<img src=\"https://www.arcosdorados.com/wp-content/uploads/2019/05/ArcosDoradosLogoX.png\" width=\"300\" height=\"150\" align='right'>](http://digitalhouse.com.ar/)\n"
   ]
  },
  {
   "cell_type": "markdown",
   "metadata": {},
   "source": [
    "Se realizo el analisis siguiendo los siguientes articulos: [towards](https://towardsdatascience.com/rfm-segmentation-using-quartiles-and-jenks-natural-breaks-924f4d8baee1)\n",
    "\n",
    "[paper](https://www.sciencedirect.com/science/article/pii/S1319157818304178)"
   ]
  },
  {
   "cell_type": "code",
   "execution_count": 1,
   "metadata": {},
   "outputs": [
    {
     "name": "stderr",
     "output_type": "stream",
     "text": [
      "/home/elias/.conda/envs/siisa/lib/python3.7/site-packages/statsmodels/tools/_testing.py:19: FutureWarning: pandas.util.testing is deprecated. Use the functions in the public API at pandas.testing instead.\n",
      "  import pandas.util.testing as tm\n"
     ]
    }
   ],
   "source": [
    "import pandas as pd\n",
    "import numpy as np\n",
    "import matplotlib.pyplot as plt\n",
    "import seaborn as sns"
   ]
  },
  {
   "cell_type": "code",
   "execution_count": 2,
   "metadata": {},
   "outputs": [
    {
     "name": "stderr",
     "output_type": "stream",
     "text": [
      "b'Skipping line 21775: expected 15 fields, saw 22\\nSkipping line 35823: expected 15 fields, saw 22\\nSkipping line 46386: expected 15 fields, saw 22\\n'\n",
      "b'Skipping line 75998: expected 15 fields, saw 22\\nSkipping line 82507: expected 15 fields, saw 22\\nSkipping line 98223: expected 15 fields, saw 22\\nSkipping line 129152: expected 15 fields, saw 22\\nSkipping line 130115: expected 15 fields, saw 22\\n'\n",
      "b'Skipping line 131270: expected 15 fields, saw 22\\nSkipping line 151687: expected 15 fields, saw 22\\n'\n",
      "b'Skipping line 196882: expected 15 fields, saw 22\\nSkipping line 213341: expected 15 fields, saw 22\\nSkipping line 233947: expected 15 fields, saw 22\\n'\n"
     ]
    }
   ],
   "source": [
    "# Importo el dataset provisto relacinado con compras en amazon.\n",
    "df = pd.read_csv('amazon_reviews_us_Luggage_v1_00.tsv',sep='\\t',error_bad_lines=False,parse_dates=True)"
   ]
  },
  {
   "cell_type": "code",
   "execution_count": 3,
   "metadata": {},
   "outputs": [
    {
     "data": {
      "text/plain": [
       "marketplace           object\n",
       "customer_id            int64\n",
       "review_id             object\n",
       "product_id            object\n",
       "product_parent         int64\n",
       "product_title         object\n",
       "product_category      object\n",
       "star_rating          float64\n",
       "helpful_votes        float64\n",
       "total_votes          float64\n",
       "vine                  object\n",
       "verified_purchase     object\n",
       "review_headline       object\n",
       "review_body           object\n",
       "review_date           object\n",
       "dtype: object"
      ]
     },
     "execution_count": 3,
     "metadata": {},
     "output_type": "execute_result"
    }
   ],
   "source": [
    "df.dtypes"
   ]
  },
  {
   "cell_type": "code",
   "execution_count": 4,
   "metadata": {},
   "outputs": [],
   "source": [
    "# Parseo en formato fecha.\n",
    "df['review_date']=pd.to_datetime(df.review_date)"
   ]
  },
  {
   "cell_type": "code",
   "execution_count": 5,
   "metadata": {},
   "outputs": [
    {
     "data": {
      "text/plain": [
       "(Timestamp('2015-08-31 00:00:00'),\n",
       " Timestamp('2002-11-05 00:00:00'),\n",
       " Timedelta('4682 days 00:00:00'))"
      ]
     },
     "execution_count": 5,
     "metadata": {},
     "output_type": "execute_result"
    }
   ],
   "source": [
    "df.review_date.max(),df.review_date.min(),df.review_date.max()-df.review_date.min()"
   ]
  },
  {
   "cell_type": "markdown",
   "metadata": {},
   "source": [
    "Data desde 2002 hasta el 2015 (12 años) donde defino como el dia del estudio el dia 2015-09-01 como dia que se hizo el estudio.\n",
    "\n",
    "Defino ademas que los clientes serian los revierws, la frequency y recency la tengo mientras que money vendrian a ser helpful_votes.\n",
    "Seria interesante determinar el periodo de tiempo donde analizo. Para obtener la frecuencia estudiada."
   ]
  },
  {
   "cell_type": "code",
   "execution_count": 6,
   "metadata": {},
   "outputs": [],
   "source": [
    "import datetime as dt\n",
    "anchorDate = dt.datetime(2015,9,1)\n",
    "gbc = df.groupby('customer_id').agg({'review_date': lambda x: (anchorDate - x.min()).days,\n",
    "                                     'product_id': lambda x: len(x)})\n",
    "  "
   ]
  },
  {
   "cell_type": "code",
   "execution_count": 7,
   "metadata": {},
   "outputs": [],
   "source": [
    "gbc.columns = ['tiempo_intereseña', 'Frequency']\n"
   ]
  },
  {
   "cell_type": "code",
   "execution_count": 8,
   "metadata": {},
   "outputs": [
    {
     "data": {
      "text/plain": [
       "(1626.0, 4.454794520547945)"
      ]
     },
     "execution_count": 8,
     "metadata": {},
     "output_type": "execute_result"
    }
   ],
   "source": [
    "gbc[gbc.Frequency>1]['tiempo_intereseña'].quantile(0.95),gbc[gbc.Frequency>1]['tiempo_intereseña'].quantile(0.95)/365"
   ]
  },
  {
   "cell_type": "code",
   "execution_count": 9,
   "metadata": {},
   "outputs": [
    {
     "data": {
      "image/png": "[encoded data removed]",
      "text/plain": [
       "<Figure size 432x288 with 1 Axes>"
      ]
     },
     "metadata": {
      "needs_background": "light"
     },
     "output_type": "display_data"
    }
   ],
   "source": [
    "gbc[gbc.Frequency>1]['tiempo_intereseña'].hist()\n",
    "plt.xlabel('Tiempo Inter-reseña (dias)')\n",
    "plt.savefig('images/tiempo_interesania.png')"
   ]
  },
  {
   "cell_type": "markdown",
   "metadata": {},
   "source": [
    "### Calculo del RFM dentro de los limites de fechas ( 3 años)."
   ]
  },
  {
   "cell_type": "code",
   "execution_count": 10,
   "metadata": {},
   "outputs": [],
   "source": [
    "# Agrego el tiempo entre la reseña y la fecha del estudio.\n",
    "df['tiempo_dias_reseña'] = df.review_date.apply(lambda x: abs((anchorDate-x).days))"
   ]
  },
  {
   "cell_type": "code",
   "execution_count": 11,
   "metadata": {},
   "outputs": [
    {
     "data": {
      "text/plain": [
       "<matplotlib.axes._subplots.AxesSubplot at 0x7f3894ee2470>"
      ]
     },
     "execution_count": 11,
     "metadata": {},
     "output_type": "execute_result"
    },
    {
     "data": {
      "image/png": "[encoded data removed]",
      "text/plain": [
       "<Figure size 432x288 with 1 Axes>"
      ]
     },
     "metadata": {
      "needs_background": "light"
     },
     "output_type": "display_data"
    }
   ],
   "source": [
    "# filtro los reviews mas viejos de 945 dias.\n",
    "df[df['tiempo_dias_reseña']<1626]['tiempo_dias_reseña'].hist()"
   ]
  },
  {
   "cell_type": "code",
   "execution_count": 12,
   "metadata": {},
   "outputs": [],
   "source": [
    "df=df[df['tiempo_dias_reseña']<1626]"
   ]
  },
  {
   "cell_type": "code",
   "execution_count": 13,
   "metadata": {},
   "outputs": [
    {
     "name": "stdout",
     "output_type": "stream",
     "text": [
      "(334336, 16) (295631, 4)\n"
     ]
    }
   ],
   "source": [
    "\n",
    "anchorDate = dt.datetime(2015,9,1)\n",
    "rfm = df.groupby('customer_id').agg({'review_date': lambda x: (anchorDate - x.max()).days,\n",
    "                                     'product_id': lambda x: len(x),\n",
    "                                     'helpful_votes': lambda x: x.sum(),\n",
    "                                      'star_rating': lambda x: x.mean()})\n",
    "rfm.columns = ['Recency', 'Frequency', 'helpful_votes','star_rating']\n",
    "print(df.shape,rfm.shape)"
   ]
  },
  {
   "cell_type": "code",
   "execution_count": 14,
   "metadata": {},
   "outputs": [
    {
     "data": {
      "text/plain": [
       "0.9833411764705883"
      ]
     },
     "execution_count": 14,
     "metadata": {},
     "output_type": "execute_result"
    }
   ],
   "source": [
    "334336/340000"
   ]
  },
  {
   "cell_type": "code",
   "execution_count": 15,
   "metadata": {},
   "outputs": [
    {
     "data": {
      "image/png": "[encoded data removed]",
      "text/plain": [
       "<Figure size 432x288 with 1 Axes>"
      ]
     },
     "metadata": {
      "needs_background": "light"
     },
     "output_type": "display_data"
    }
   ],
   "source": [
    "\n",
    "fig, ax = plt.subplots()\n",
    "plt.savefig('images/Recency_distribution.png')\n",
    "ax=rfm.Recency.hist(density=True,grid=False)\n",
    "plt.xlim(0,4000)\n",
    "plt.xlabel('Recency (days)')\n",
    "plt.ylabel('Density');"
   ]
  },
  {
   "cell_type": "code",
   "execution_count": 16,
   "metadata": {},
   "outputs": [
    {
     "data": {
      "text/plain": [
       "0         0.0\n",
       "1         0.0\n",
       "2         0.0\n",
       "3         0.0\n",
       "4         0.0\n",
       "         ... \n",
       "334333    3.0\n",
       "334334    0.0\n",
       "334335    2.0\n",
       "334336    0.0\n",
       "334337    7.0\n",
       "Length: 334336, dtype: float64"
      ]
     },
     "execution_count": 16,
     "metadata": {},
     "output_type": "execute_result"
    }
   ],
   "source": [
    "df.total_votes - df.helpful_votes"
   ]
  },
  {
   "cell_type": "code",
   "execution_count": 17,
   "metadata": {},
   "outputs": [
    {
     "data": {
      "text/html": [
       "<div>\n",
       "<style scoped>\n",
       "    .dataframe tbody tr th:only-of-type {\n",
       "        vertical-align: middle;\n",
       "    }\n",
       "\n",
       "    .dataframe tbody tr th {\n",
       "        vertical-align: top;\n",
       "    }\n",
       "\n",
       "    .dataframe thead th {\n",
       "        text-align: right;\n",
       "    }\n",
       "</style>\n",
       "<table border=\"1\" class=\"dataframe\">\n",
       "  <thead>\n",
       "    <tr style=\"text-align: right;\">\n",
       "      <th></th>\n",
       "      <th>Recency</th>\n",
       "      <th>Frequency</th>\n",
       "      <th>helpful_votes</th>\n",
       "      <th>star_rating</th>\n",
       "    </tr>\n",
       "  </thead>\n",
       "  <tbody>\n",
       "    <tr>\n",
       "      <th>count</th>\n",
       "      <td>295631.000000</td>\n",
       "      <td>295631.000000</td>\n",
       "      <td>295631.000000</td>\n",
       "      <td>295631.000000</td>\n",
       "    </tr>\n",
       "    <tr>\n",
       "      <th>mean</th>\n",
       "      <td>447.786436</td>\n",
       "      <td>1.130923</td>\n",
       "      <td>2.105341</td>\n",
       "      <td>4.210581</td>\n",
       "    </tr>\n",
       "    <tr>\n",
       "      <th>std</th>\n",
       "      <td>369.699710</td>\n",
       "      <td>0.533661</td>\n",
       "      <td>13.439525</td>\n",
       "      <td>1.220519</td>\n",
       "    </tr>\n",
       "    <tr>\n",
       "      <th>min</th>\n",
       "      <td>1.000000</td>\n",
       "      <td>1.000000</td>\n",
       "      <td>0.000000</td>\n",
       "      <td>1.000000</td>\n",
       "    </tr>\n",
       "    <tr>\n",
       "      <th>25%</th>\n",
       "      <td>156.000000</td>\n",
       "      <td>1.000000</td>\n",
       "      <td>0.000000</td>\n",
       "      <td>4.000000</td>\n",
       "    </tr>\n",
       "    <tr>\n",
       "      <th>50%</th>\n",
       "      <td>346.000000</td>\n",
       "      <td>1.000000</td>\n",
       "      <td>0.000000</td>\n",
       "      <td>5.000000</td>\n",
       "    </tr>\n",
       "    <tr>\n",
       "      <th>75%</th>\n",
       "      <td>678.000000</td>\n",
       "      <td>1.000000</td>\n",
       "      <td>1.000000</td>\n",
       "      <td>5.000000</td>\n",
       "    </tr>\n",
       "    <tr>\n",
       "      <th>max</th>\n",
       "      <td>1625.000000</td>\n",
       "      <td>63.000000</td>\n",
       "      <td>1992.000000</td>\n",
       "      <td>5.000000</td>\n",
       "    </tr>\n",
       "  </tbody>\n",
       "</table>\n",
       "</div>"
      ],
      "text/plain": [
       "             Recency      Frequency  helpful_votes    star_rating\n",
       "count  295631.000000  295631.000000  295631.000000  295631.000000\n",
       "mean      447.786436       1.130923       2.105341       4.210581\n",
       "std       369.699710       0.533661      13.439525       1.220519\n",
       "min         1.000000       1.000000       0.000000       1.000000\n",
       "25%       156.000000       1.000000       0.000000       4.000000\n",
       "50%       346.000000       1.000000       0.000000       5.000000\n",
       "75%       678.000000       1.000000       1.000000       5.000000\n",
       "max      1625.000000      63.000000    1992.000000       5.000000"
      ]
     },
     "execution_count": 17,
     "metadata": {},
     "output_type": "execute_result"
    }
   ],
   "source": [
    "rfm.describe()"
   ]
  },
  {
   "cell_type": "code",
   "execution_count": 18,
   "metadata": {},
   "outputs": [
    {
     "data": {
      "text/plain": [
       "<matplotlib.axes._subplots.AxesSubplot at 0x7f3890246b00>"
      ]
     },
     "execution_count": 18,
     "metadata": {},
     "output_type": "execute_result"
    },
    {
     "data": {
      "image/png": "[encoded data removed]",
      "text/plain": [
       "<Figure size 432x288 with 1 Axes>"
      ]
     },
     "metadata": {
      "needs_background": "light"
     },
     "output_type": "display_data"
    }
   ],
   "source": [
    "rfm[rfm.Frequency>1].Frequency.hist(bins=50)"
   ]
  },
  {
   "cell_type": "code",
   "execution_count": 19,
   "metadata": {},
   "outputs": [
    {
     "data": {
      "image/png": "[encoded data removed]",
      "text/plain": [
       "<Figure size 432x288 with 1 Axes>"
      ]
     },
     "metadata": {
      "needs_background": "light"
     },
     "output_type": "display_data"
    }
   ],
   "source": [
    "f=(rfm.Frequency.value_counts(normalize=True)*100).reset_index()\n",
    "f.columns=['frequency','counts']\n",
    "fig, ax = plt.subplots()\n",
    "plt.savefig('images/Frequency_distribution.png')\n",
    "f_plot = ax.bar(f.frequency,f.counts);\n",
    "plt.xlim(0,10)\n",
    "plt.ylim(0,100)\n",
    "plt.xlabel('Frequency')\n",
    "plt.ylabel('Percentage % ');"
   ]
  },
  {
   "cell_type": "code",
   "execution_count": 20,
   "metadata": {},
   "outputs": [
    {
     "data": {
      "image/png": "[encoded data removed]",
      "text/plain": [
       "<Figure size 432x288 with 1 Axes>"
      ]
     },
     "metadata": {
      "needs_background": "light"
     },
     "output_type": "display_data"
    }
   ],
   "source": [
    "f=(rfm.helpful_votes.value_counts(normalize=True)*100).reset_index()\n",
    "f.columns=['frequency','counts']\n",
    "fig, ax = plt.subplots()\n",
    "plt.savefig('images/helpful_votes_distribution.png')\n",
    "f_plot = ax.bar(f.frequency,f.counts);\n",
    "plt.xlim(-1,10)\n",
    "plt.ylim(0,100)\n",
    "plt.xlabel('Frequency')\n",
    "plt.ylabel('Percentage % ');"
   ]
  },
  {
   "cell_type": "markdown",
   "metadata": {},
   "source": [
    "### RFM clasico usando numero de votos positivos."
   ]
  },
  {
   "cell_type": "code",
   "execution_count": 48,
   "metadata": {},
   "outputs": [],
   "source": [
    "rfm1 = rfm[['Recency', 'Frequency', 'helpful_votes']]\n",
    "rfm1.columns= ['Recency', 'Frequency', 'Monetary']"
   ]
  },
  {
   "cell_type": "code",
   "execution_count": 49,
   "metadata": {},
   "outputs": [],
   "source": [
    "rfm1['r_score'] = pd.qcut(rfm1['Recency'], 2, labels=range(2,0,-1))\n",
    "rfm1['f_score'] = rfm1['Frequency'].apply(lambda x: 1 if  x>1 else 2)\n",
    "rfm1['m_score'] = rfm1['Monetary'].apply(lambda x: 1 if  x>=1 else 2)"
   ]
  },
  {
   "cell_type": "code",
   "execution_count": 50,
   "metadata": {},
   "outputs": [
    {
     "data": {
      "text/plain": [
       "2    90.553088\n",
       "1     9.446912\n",
       "Name: f_score, dtype: float64"
      ]
     },
     "execution_count": 50,
     "metadata": {},
     "output_type": "execute_result"
    }
   ],
   "source": [
    "rfm1.f_score.value_counts(normalize=True)*100"
   ]
  },
  {
   "cell_type": "code",
   "execution_count": 51,
   "metadata": {},
   "outputs": [
    {
     "data": {
      "text/plain": [
       "2    62.878386\n",
       "1    37.121614\n",
       "Name: m_score, dtype: float64"
      ]
     },
     "execution_count": 51,
     "metadata": {},
     "output_type": "execute_result"
    }
   ],
   "source": [
    "rfm1.m_score.value_counts(normalize=True)*100"
   ]
  },
  {
   "cell_type": "code",
   "execution_count": 52,
   "metadata": {},
   "outputs": [],
   "source": [
    "df['helpful_ratio']= (df.helpful_votes / df.total_votes)*100\n",
    "df['helpful_ratio'].fillna(-1,inplace=True)"
   ]
  },
  {
   "cell_type": "code",
   "execution_count": 53,
   "metadata": {},
   "outputs": [
    {
     "data": {
      "text/plain": [
       "<matplotlib.axes._subplots.AxesSubplot at 0x7f3889c131d0>"
      ]
     },
     "execution_count": 53,
     "metadata": {},
     "output_type": "execute_result"
    },
    {
     "data": {
      "image/png": "[encoded data removed]",
      "text/plain": [
       "<Figure size 432x288 with 1 Axes>"
      ]
     },
     "metadata": {
      "needs_background": "light"
     },
     "output_type": "display_data"
    }
   ],
   "source": [
    "df.helpful_ratio.hist()"
   ]
  },
  {
   "cell_type": "markdown",
   "metadata": {},
   "source": [
    "Conclusiones: En principio debería tener segmentos equipoblados y el binning no se puede hacer debido a que gran parte de la poblacion esta centrada en cero el valor Monerario (helpful_votes).\n",
    "Amazon utiliza una estrategia donde tenes el salon de la fama de Reviews donde saca el sesgo de reviews pagas o subsidiadas y asi de esa manera identifica a aquellos reviewrs que son muy buenos y que solo quieren el reconocimiento intelectual y no el monetario."
   ]
  },
  {
   "cell_type": "code",
   "execution_count": 54,
   "metadata": {},
   "outputs": [],
   "source": [
    "rfm1['rfm_score'] = rfm1['r_score'].astype(str) + rfm1['f_score'].astype(str) + rfm1['m_score'].astype(str)"
   ]
  },
  {
   "cell_type": "code",
   "execution_count": 56,
   "metadata": {},
   "outputs": [
    {
     "data": {
      "image/png": "[encoded data removed]",
      "text/plain": [
       "<Figure size 432x288 with 1 Axes>"
      ]
     },
     "metadata": {
      "needs_background": "light"
     },
     "output_type": "display_data"
    }
   ],
   "source": [
    "rfm1_bar = rfm1['rfm_score'].value_counts(normalize=True)*100 \n",
    "ax = rfm1_bar.plot(kind='bar')\n",
    "ax.set_xlabel(\"RFM Score\", fontsize=12)\n",
    "ax.set_ylabel(\"% Percentage\", fontsize=12)\n",
    "plt.savefig('images/rfm1.png')\n",
    "plt.show()"
   ]
  },
  {
   "cell_type": "markdown",
   "metadata": {},
   "source": [
    "### RFM clasico usando numero de votos positivos y estrellas promedio."
   ]
  },
  {
   "cell_type": "code",
   "execution_count": 57,
   "metadata": {},
   "outputs": [],
   "source": [
    "rfm2 = rfm[['star_rating', 'Frequency', 'helpful_votes']]\n",
    "rfm2.columns= ['Recency', 'Frequency', 'Monetary']"
   ]
  },
  {
   "cell_type": "code",
   "execution_count": 58,
   "metadata": {},
   "outputs": [],
   "source": [
    "rfm2['r_score'] = rfm2['Recency'].apply(lambda x: 1 if  x>2.5 else 2)\n",
    "rfm2['f_score'] = rfm2['Frequency'].apply(lambda x: 1 if  x>1 else 2)\n",
    "rfm2['m_score'] = rfm2['Monetary'].apply(lambda x: 1 if  x>=1 else 2)"
   ]
  },
  {
   "cell_type": "code",
   "execution_count": 59,
   "metadata": {},
   "outputs": [],
   "source": [
    "rfm2['rfm_score'] = rfm2['r_score'].astype(str) + rfm2['f_score'].astype(str) + rfm2['m_score'].astype(str)"
   ]
  },
  {
   "cell_type": "code",
   "execution_count": 61,
   "metadata": {},
   "outputs": [
    {
     "data": {
      "image/png": "[encoded data removed]",
      "text/plain": [
       "<Figure size 432x288 with 1 Axes>"
      ]
     },
     "metadata": {
      "needs_background": "light"
     },
     "output_type": "display_data"
    }
   ],
   "source": [
    "rfm2_bar = rfm2['rfm_score'].value_counts(normalize=True)*100 \n",
    "ax = rfm2_bar.plot(kind='bar')\n",
    "ax.set_xlabel(\"RFM Score\", fontsize=12)\n",
    "ax.set_ylabel(\"% Percentage\", fontsize=12)\n",
    "plt.savefig('images/rfm2.png')\n",
    "plt.show()"
   ]
  },
  {
   "cell_type": "markdown",
   "metadata": {},
   "source": [
    "# Clustering con HDBSCAN."
   ]
  },
  {
   "cell_type": "code",
   "execution_count": 81,
   "metadata": {},
   "outputs": [],
   "source": [
    "# Genero las dummies.\n",
    "dummies = pd.get_dummies(df[['vine','verified_purchase']],drop_first=True)"
   ]
  },
  {
   "cell_type": "code",
   "execution_count": 83,
   "metadata": {},
   "outputs": [],
   "source": [
    "df=pd.concat([df,dummies],axis=1)"
   ]
  },
  {
   "cell_type": "code",
   "execution_count": 84,
   "metadata": {},
   "outputs": [
    {
     "data": {
      "text/plain": [
       "Index(['marketplace', 'customer_id', 'review_id', 'product_id',\n",
       "       'product_parent', 'product_title', 'product_category', 'star_rating',\n",
       "       'helpful_votes', 'total_votes', 'vine', 'verified_purchase',\n",
       "       'review_headline', 'review_body', 'review_date', 'tiempo_dias_reseña',\n",
       "       'helpful_ratio', 'vine_Y', 'verified_purchase_Y'],\n",
       "      dtype='object')"
      ]
     },
     "execution_count": 84,
     "metadata": {},
     "output_type": "execute_result"
    }
   ],
   "source": [
    "df.columns"
   ]
  },
  {
   "cell_type": "code",
   "execution_count": 85,
   "metadata": {},
   "outputs": [],
   "source": [
    "df_clustering = df.groupby('customer_id').agg({'review_date': lambda x: (anchorDate - x.max()).days,\n",
    "                                     'product_id': lambda x: len(x),\n",
    "                                     'helpful_votes': lambda x: x.sum(),\n",
    "                                     'total_votes': lambda x: x.sum(),\n",
    "                                     'star_rating': lambda x: x.mean(),\n",
    "                                     'vine_Y': lambda x: x.sum(),\n",
    "                                     'verified_purchase_Y': lambda x: x.sum()\n",
    "                                              })"
   ]
  },
  {
   "cell_type": "code",
   "execution_count": 86,
   "metadata": {},
   "outputs": [],
   "source": [
    "df_clustering.columns = ['Recency', 'Frequency','helpful_votes','total_votes','star_rating_avg','vine_Y','verified_purchase_Y']"
   ]
  },
  {
   "cell_type": "code",
   "execution_count": 88,
   "metadata": {},
   "outputs": [
    {
     "data": {
      "text/html": [
       "<div>\n",
       "<style scoped>\n",
       "    .dataframe tbody tr th:only-of-type {\n",
       "        vertical-align: middle;\n",
       "    }\n",
       "\n",
       "    .dataframe tbody tr th {\n",
       "        vertical-align: top;\n",
       "    }\n",
       "\n",
       "    .dataframe thead th {\n",
       "        text-align: right;\n",
       "    }\n",
       "</style>\n",
       "<table border=\"1\" class=\"dataframe\">\n",
       "  <thead>\n",
       "    <tr style=\"text-align: right;\">\n",
       "      <th></th>\n",
       "      <th>Recency</th>\n",
       "      <th>Frequency</th>\n",
       "      <th>helpful_votes</th>\n",
       "      <th>total_votes</th>\n",
       "      <th>star_rating_avg</th>\n",
       "      <th>vine_Y</th>\n",
       "      <th>verified_purchase_Y</th>\n",
       "    </tr>\n",
       "  </thead>\n",
       "  <tbody>\n",
       "    <tr>\n",
       "      <th>count</th>\n",
       "      <td>295631.000000</td>\n",
       "      <td>295631.000000</td>\n",
       "      <td>295631.000000</td>\n",
       "      <td>295631.000000</td>\n",
       "      <td>295631.000000</td>\n",
       "      <td>295631.000000</td>\n",
       "      <td>295631.000000</td>\n",
       "    </tr>\n",
       "    <tr>\n",
       "      <th>mean</th>\n",
       "      <td>447.786436</td>\n",
       "      <td>1.130923</td>\n",
       "      <td>2.105341</td>\n",
       "      <td>2.499271</td>\n",
       "      <td>4.210581</td>\n",
       "      <td>0.003058</td>\n",
       "      <td>1.019927</td>\n",
       "    </tr>\n",
       "    <tr>\n",
       "      <th>std</th>\n",
       "      <td>369.699710</td>\n",
       "      <td>0.533661</td>\n",
       "      <td>13.439525</td>\n",
       "      <td>14.254023</td>\n",
       "      <td>1.220519</td>\n",
       "      <td>0.067956</td>\n",
       "      <td>0.538035</td>\n",
       "    </tr>\n",
       "    <tr>\n",
       "      <th>min</th>\n",
       "      <td>1.000000</td>\n",
       "      <td>1.000000</td>\n",
       "      <td>0.000000</td>\n",
       "      <td>0.000000</td>\n",
       "      <td>1.000000</td>\n",
       "      <td>0.000000</td>\n",
       "      <td>0.000000</td>\n",
       "    </tr>\n",
       "    <tr>\n",
       "      <th>25%</th>\n",
       "      <td>156.000000</td>\n",
       "      <td>1.000000</td>\n",
       "      <td>0.000000</td>\n",
       "      <td>0.000000</td>\n",
       "      <td>4.000000</td>\n",
       "      <td>0.000000</td>\n",
       "      <td>1.000000</td>\n",
       "    </tr>\n",
       "    <tr>\n",
       "      <th>50%</th>\n",
       "      <td>346.000000</td>\n",
       "      <td>1.000000</td>\n",
       "      <td>0.000000</td>\n",
       "      <td>0.000000</td>\n",
       "      <td>5.000000</td>\n",
       "      <td>0.000000</td>\n",
       "      <td>1.000000</td>\n",
       "    </tr>\n",
       "    <tr>\n",
       "      <th>75%</th>\n",
       "      <td>678.000000</td>\n",
       "      <td>1.000000</td>\n",
       "      <td>1.000000</td>\n",
       "      <td>2.000000</td>\n",
       "      <td>5.000000</td>\n",
       "      <td>0.000000</td>\n",
       "      <td>1.000000</td>\n",
       "    </tr>\n",
       "    <tr>\n",
       "      <th>max</th>\n",
       "      <td>1625.000000</td>\n",
       "      <td>63.000000</td>\n",
       "      <td>1992.000000</td>\n",
       "      <td>2030.000000</td>\n",
       "      <td>5.000000</td>\n",
       "      <td>7.000000</td>\n",
       "      <td>17.000000</td>\n",
       "    </tr>\n",
       "  </tbody>\n",
       "</table>\n",
       "</div>"
      ],
      "text/plain": [
       "             Recency      Frequency  helpful_votes    total_votes  \\\n",
       "count  295631.000000  295631.000000  295631.000000  295631.000000   \n",
       "mean      447.786436       1.130923       2.105341       2.499271   \n",
       "std       369.699710       0.533661      13.439525      14.254023   \n",
       "min         1.000000       1.000000       0.000000       0.000000   \n",
       "25%       156.000000       1.000000       0.000000       0.000000   \n",
       "50%       346.000000       1.000000       0.000000       0.000000   \n",
       "75%       678.000000       1.000000       1.000000       2.000000   \n",
       "max      1625.000000      63.000000    1992.000000    2030.000000   \n",
       "\n",
       "       star_rating_avg         vine_Y  verified_purchase_Y  \n",
       "count    295631.000000  295631.000000        295631.000000  \n",
       "mean          4.210581       0.003058             1.019927  \n",
       "std           1.220519       0.067956             0.538035  \n",
       "min           1.000000       0.000000             0.000000  \n",
       "25%           4.000000       0.000000             1.000000  \n",
       "50%           5.000000       0.000000             1.000000  \n",
       "75%           5.000000       0.000000             1.000000  \n",
       "max           5.000000       7.000000            17.000000  "
      ]
     },
     "execution_count": 88,
     "metadata": {},
     "output_type": "execute_result"
    }
   ],
   "source": [
    "df_clustering.describe()"
   ]
  },
  {
   "cell_type": "code",
   "execution_count": 89,
   "metadata": {},
   "outputs": [
    {
     "data": {
      "text/plain": [
       "(295631, 7)"
      ]
     },
     "execution_count": 89,
     "metadata": {},
     "output_type": "execute_result"
    }
   ],
   "source": [
    "df_clustering.shape"
   ]
  },
  {
   "cell_type": "code",
   "execution_count": 91,
   "metadata": {},
   "outputs": [
    {
     "data": {
      "text/plain": [
       "14781.550000000001"
      ]
     },
     "execution_count": 91,
     "metadata": {},
     "output_type": "execute_result"
    }
   ],
   "source": [
    "df_clustering.shape[0]*0.05"
   ]
  },
  {
   "cell_type": "code",
   "execution_count": 93,
   "metadata": {},
   "outputs": [
    {
     "name": "stdout",
     "output_type": "stream",
     "text": [
      "Collecting hdbscan\n",
      "\u001b[?25l  Downloading https://files.pythonhosted.org/packages/22/2f/2423d844072f007a74214c1adc46260e45f034bb1679ccadfbb8a601f647/hdbscan-0.8.26.tar.gz (4.7MB)\n",
      "\u001b[K     |████████████████████████████████| 4.7MB 1.3MB/s eta 0:00:01\n",
      "\u001b[?25h  Installing build dependencies ... \u001b[?25ldone\n",
      "\u001b[?25h  Getting requirements to build wheel ... \u001b[?25ldone\n",
      "\u001b[?25h    Preparing wheel metadata ... \u001b[?25ldone\n",
      "\u001b[?25hRequirement already satisfied: six in /home/elias/.conda/envs/siisa/lib/python3.7/site-packages (from hdbscan) (1.12.0)\n",
      "Requirement already satisfied: numpy>=1.16.0 in /home/elias/.conda/envs/siisa/lib/python3.7/site-packages (from hdbscan) (1.16.4)\n",
      "Requirement already satisfied: joblib in /home/elias/.conda/envs/siisa/lib/python3.7/site-packages (from hdbscan) (0.13.2)\n",
      "Requirement already satisfied: scikit-learn>=0.17 in /home/elias/.conda/envs/siisa/lib/python3.7/site-packages (from hdbscan) (0.21.2)\n",
      "Requirement already satisfied: scipy>=0.9 in /home/elias/.conda/envs/siisa/lib/python3.7/site-packages (from hdbscan) (1.3.0)\n",
      "Requirement already satisfied: cython>=0.27 in /home/elias/.conda/envs/siisa/lib/python3.7/site-packages (from hdbscan) (0.29.12)\n",
      "Building wheels for collected packages: hdbscan\n",
      "  Building wheel for hdbscan (PEP 517) ... \u001b[?25ldone\n",
      "\u001b[?25h  Stored in directory: /home/elias/.cache/pip/wheels/82/38/41/372f034d8abd271ef7787a681e0a47fc05d472683a7eb088ed\n",
      "Successfully built hdbscan\n",
      "Installing collected packages: hdbscan\n",
      "Successfully installed hdbscan-0.8.26\n",
      "Note: you may need to restart the kernel to use updated packages.\n"
     ]
    }
   ],
   "source": [
    "pip install hdbscan"
   ]
  },
  {
   "cell_type": "code",
   "execution_count": 96,
   "metadata": {},
   "outputs": [],
   "source": [
    "# Normalizo el Dataset\n",
    "from sklearn.preprocessing import StandardScaler\n",
    "sc=StandardScaler()\n",
    "df_clustering_norm = sc.fit_transform(df_clustering)\n",
    "df_clustering_norm = pd.DataFrame(df_clustering_norm,columns=df_clustering.columns)"
   ]
  },
  {
   "cell_type": "code",
   "execution_count": null,
   "metadata": {},
   "outputs": [],
   "source": [
    "import hdbscan\n",
    "clusterer = hdbscan.HDBSCAN(min_cluster_size=15000,min_samples=None, metric='euclidean')\n",
    "clusterer.fit(df_clustering_norm)\n"
   ]
  },
  {
   "cell_type": "code",
   "execution_count": null,
   "metadata": {},
   "outputs": [],
   "source": [
    "df_clustering['Cluster'] = pd.Series(clusterer.labels_, index=df_clustering.index)\n",
    "df_clustering.head(3)"
   ]
  },
  {
   "cell_type": "code",
   "execution_count": null,
   "metadata": {},
   "outputs": [],
   "source": [
    "clustering_results = (df_clustering.Cluster.value_counts(normalize=True)*100).reset_index()\n",
    "clustering_results.columns = ['Cluster','% Percentage']"
   ]
  },
  {
   "cell_type": "code",
   "execution_count": null,
   "metadata": {},
   "outputs": [],
   "source": [
    "clustering_results"
   ]
  },
  {
   "cell_type": "code",
   "execution_count": null,
   "metadata": {},
   "outputs": [],
   "source": []
  }
 ],
 "metadata": {
  "kernelspec": {
   "display_name": "Python 3",
   "language": "python",
   "name": "python3"
  },
  "language_info": {
   "codemirror_mode": {
    "name": "ipython",
    "version": 3
   },
   "file_extension": ".py",
   "mimetype": "text/x-python",
   "name": "python",
   "nbconvert_exporter": "python",
   "pygments_lexer": "ipython3",
   "version": "3.7.3"
  }
 },
 "nbformat": 4,
 "nbformat_minor": 2
}
